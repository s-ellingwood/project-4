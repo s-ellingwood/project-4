{
 "cells": [
  {
   "cell_type": "markdown",
   "metadata": {},
   "source": [
    "## Import Necessary Libraries"
   ]
  },
  {
   "cell_type": "code",
   "execution_count": 1,
   "metadata": {},
   "outputs": [],
   "source": [
    "import pandas as pd\n",
    "\n",
    "from datetime import datetime\n",
    "import time"
   ]
  },
  {
   "cell_type": "markdown",
   "metadata": {},
   "source": [
    "## Import, Inspect, and Clean First Dataset - Spotify Track Data"
   ]
  },
  {
   "cell_type": "markdown",
   "metadata": {},
   "source": [
    "The first csv, Hot 100 Audio Features, contains data from spotify on tracks that have at all been on the Billboard Hot 100 at any time between August 1958 and May 2021."
   ]
  },
  {
   "cell_type": "code",
   "execution_count": 2,
   "metadata": {},
   "outputs": [
    {
     "data": {
      "text/html": [
       "<div>\n",
       "<style scoped>\n",
       "    .dataframe tbody tr th:only-of-type {\n",
       "        vertical-align: middle;\n",
       "    }\n",
       "\n",
       "    .dataframe tbody tr th {\n",
       "        vertical-align: top;\n",
       "    }\n",
       "\n",
       "    .dataframe thead th {\n",
       "        text-align: right;\n",
       "    }\n",
       "</style>\n",
       "<table border=\"1\" class=\"dataframe\">\n",
       "  <thead>\n",
       "    <tr style=\"text-align: right;\">\n",
       "      <th></th>\n",
       "      <th>SongID</th>\n",
       "      <th>Performer</th>\n",
       "      <th>Song</th>\n",
       "      <th>spotify_genre</th>\n",
       "      <th>spotify_track_id</th>\n",
       "      <th>spotify_track_preview_url</th>\n",
       "      <th>spotify_track_duration_ms</th>\n",
       "      <th>spotify_track_explicit</th>\n",
       "      <th>spotify_track_album</th>\n",
       "      <th>danceability</th>\n",
       "      <th>...</th>\n",
       "      <th>loudness</th>\n",
       "      <th>mode</th>\n",
       "      <th>speechiness</th>\n",
       "      <th>acousticness</th>\n",
       "      <th>instrumentalness</th>\n",
       "      <th>liveness</th>\n",
       "      <th>valence</th>\n",
       "      <th>tempo</th>\n",
       "      <th>time_signature</th>\n",
       "      <th>spotify_track_popularity</th>\n",
       "    </tr>\n",
       "  </thead>\n",
       "  <tbody>\n",
       "    <tr>\n",
       "      <th>0</th>\n",
       "      <td>-twistin'-White Silver SandsBill Black's Combo</td>\n",
       "      <td>Bill Black's Combo</td>\n",
       "      <td>-twistin'-White Silver Sands</td>\n",
       "      <td>[]</td>\n",
       "      <td>NaN</td>\n",
       "      <td>NaN</td>\n",
       "      <td>NaN</td>\n",
       "      <td>NaN</td>\n",
       "      <td>NaN</td>\n",
       "      <td>NaN</td>\n",
       "      <td>...</td>\n",
       "      <td>NaN</td>\n",
       "      <td>NaN</td>\n",
       "      <td>NaN</td>\n",
       "      <td>NaN</td>\n",
       "      <td>NaN</td>\n",
       "      <td>NaN</td>\n",
       "      <td>NaN</td>\n",
       "      <td>NaN</td>\n",
       "      <td>NaN</td>\n",
       "      <td>NaN</td>\n",
       "    </tr>\n",
       "    <tr>\n",
       "      <th>1</th>\n",
       "      <td>¿Dònde Està Santa Claus? (Where Is Santa Claus...</td>\n",
       "      <td>Augie Rios</td>\n",
       "      <td>¿Dònde Està Santa Claus? (Where Is Santa Claus?)</td>\n",
       "      <td>['novelty']</td>\n",
       "      <td>NaN</td>\n",
       "      <td>NaN</td>\n",
       "      <td>NaN</td>\n",
       "      <td>NaN</td>\n",
       "      <td>NaN</td>\n",
       "      <td>NaN</td>\n",
       "      <td>...</td>\n",
       "      <td>NaN</td>\n",
       "      <td>NaN</td>\n",
       "      <td>NaN</td>\n",
       "      <td>NaN</td>\n",
       "      <td>NaN</td>\n",
       "      <td>NaN</td>\n",
       "      <td>NaN</td>\n",
       "      <td>NaN</td>\n",
       "      <td>NaN</td>\n",
       "      <td>NaN</td>\n",
       "    </tr>\n",
       "  </tbody>\n",
       "</table>\n",
       "<p>2 rows × 22 columns</p>\n",
       "</div>"
      ],
      "text/plain": [
       "                                              SongID           Performer  \\\n",
       "0     -twistin'-White Silver SandsBill Black's Combo  Bill Black's Combo   \n",
       "1  ¿Dònde Està Santa Claus? (Where Is Santa Claus...          Augie Rios   \n",
       "\n",
       "                                               Song spotify_genre  \\\n",
       "0                      -twistin'-White Silver Sands            []   \n",
       "1  ¿Dònde Està Santa Claus? (Where Is Santa Claus?)   ['novelty']   \n",
       "\n",
       "  spotify_track_id spotify_track_preview_url  spotify_track_duration_ms  \\\n",
       "0              NaN                       NaN                        NaN   \n",
       "1              NaN                       NaN                        NaN   \n",
       "\n",
       "  spotify_track_explicit spotify_track_album  danceability  ...  loudness  \\\n",
       "0                    NaN                 NaN           NaN  ...       NaN   \n",
       "1                    NaN                 NaN           NaN  ...       NaN   \n",
       "\n",
       "   mode  speechiness  acousticness  instrumentalness  liveness  valence  \\\n",
       "0   NaN          NaN           NaN               NaN       NaN      NaN   \n",
       "1   NaN          NaN           NaN               NaN       NaN      NaN   \n",
       "\n",
       "   tempo  time_signature  spotify_track_popularity  \n",
       "0    NaN             NaN                       NaN  \n",
       "1    NaN             NaN                       NaN  \n",
       "\n",
       "[2 rows x 22 columns]"
      ]
     },
     "execution_count": 2,
     "metadata": {},
     "output_type": "execute_result"
    }
   ],
   "source": [
    "# Use pd.read_csv() to read in first dataset - Hot 100 Audio Features\n",
    "audio_features = pd.read_csv('Resources/Hot 100 Audio Features.csv').drop(columns='index')\n",
    "audio_features.head(2)"
   ]
  },
  {
   "cell_type": "markdown",
   "metadata": {},
   "source": [
    "#### Drop and filter out unneeded data"
   ]
  },
  {
   "cell_type": "code",
   "execution_count": 3,
   "metadata": {},
   "outputs": [],
   "source": [
    "# Select only those rows that have an actual genre in them; none of the rows that have only [] in the genre column\n",
    "audio_features = audio_features[audio_features['spotify_genre'] != '[]']"
   ]
  },
  {
   "cell_type": "code",
   "execution_count": 4,
   "metadata": {},
   "outputs": [],
   "source": [
    "# Drop unneeded columns\n",
    "audio_features = audio_features.drop(columns=[\"spotify_track_id\", \"spotify_track_preview_url\", \"spotify_track_album\", \"spotify_track_popularity\"])"
   ]
  },
  {
   "cell_type": "code",
   "execution_count": 5,
   "metadata": {},
   "outputs": [],
   "source": [
    "# Rename some columns for easier use\n",
    "audio_features = audio_features.rename(columns={\"spotify_track_duration_ms\":\"duration_ms\", \"spotify_track_explicit\":\"explicit\"})"
   ]
  },
  {
   "cell_type": "code",
   "execution_count": 6,
   "metadata": {},
   "outputs": [
    {
     "name": "stdout",
     "output_type": "stream",
     "text": [
      "<class 'pandas.core.frame.DataFrame'>\n",
      "Index: 26946 entries, 1 to 29502\n",
      "Data columns (total 18 columns):\n",
      " #   Column            Non-Null Count  Dtype  \n",
      "---  ------            --------------  -----  \n",
      " 0   SongID            26946 non-null  object \n",
      " 1   Performer         26946 non-null  object \n",
      " 2   Song              26946 non-null  object \n",
      " 3   spotify_genre     25346 non-null  object \n",
      " 4   duration_ms       22936 non-null  float64\n",
      " 5   explicit          22936 non-null  object \n",
      " 6   danceability      22883 non-null  float64\n",
      " 7   energy            22883 non-null  float64\n",
      " 8   key               22883 non-null  float64\n",
      " 9   loudness          22883 non-null  float64\n",
      " 10  mode              22883 non-null  float64\n",
      " 11  speechiness       22883 non-null  float64\n",
      " 12  acousticness      22883 non-null  float64\n",
      " 13  instrumentalness  22883 non-null  float64\n",
      " 14  liveness          22883 non-null  float64\n",
      " 15  valence           22883 non-null  float64\n",
      " 16  tempo             22883 non-null  float64\n",
      " 17  time_signature    22883 non-null  float64\n",
      "dtypes: float64(13), object(5)\n",
      "memory usage: 3.9+ MB\n"
     ]
    }
   ],
   "source": [
    "# Inspect data for null values and data types\n",
    "audio_features.info()"
   ]
  },
  {
   "cell_type": "code",
   "execution_count": 7,
   "metadata": {},
   "outputs": [
    {
     "data": {
      "text/plain": [
       "SongID              0\n",
       "Performer           0\n",
       "Song                0\n",
       "spotify_genre       0\n",
       "duration_ms         0\n",
       "explicit            0\n",
       "danceability        0\n",
       "energy              0\n",
       "key                 0\n",
       "loudness            0\n",
       "mode                0\n",
       "speechiness         0\n",
       "acousticness        0\n",
       "instrumentalness    0\n",
       "liveness            0\n",
       "valence             0\n",
       "tempo               0\n",
       "time_signature      0\n",
       "dtype: int64"
      ]
     },
     "execution_count": 7,
     "metadata": {},
     "output_type": "execute_result"
    }
   ],
   "source": [
    "# Drop all null values\n",
    "audio_features = audio_features.dropna().reset_index(drop=True)\n",
    "\n",
    "# Check that null values were dropped correctly\n",
    "audio_features.isna().sum()"
   ]
  },
  {
   "cell_type": "markdown",
   "metadata": {},
   "source": [
    "#### Format the SongID, Performer, and Song column"
   ]
  },
  {
   "cell_type": "code",
   "execution_count": 8,
   "metadata": {},
   "outputs": [],
   "source": [
    "# Use .str.title() to make sure all SongIDs, Performers, and Songs are formatted the same\n",
    "audio_features[\"SongID\"]= audio_features[\"SongID\"].str.title()\n",
    "audio_features[\"Performer\"]= audio_features[\"Performer\"].str.upper().str.title()\n",
    "audio_features[\"Song\"]= audio_features[\"Song\"].str.upper().str.title()"
   ]
  },
  {
   "cell_type": "markdown",
   "metadata": {},
   "source": [
    "#### Clean the genre column"
   ]
  },
  {
   "cell_type": "code",
   "execution_count": 9,
   "metadata": {},
   "outputs": [],
   "source": [
    "# Start cleaning the 'spotify_genre' column - use .replace() to drop brackets and quote marks; create a new column for cleaned data\n",
    "for i, row in audio_features.iterrows():\n",
    "    cleaning_genre = str(row['spotify_genre']).replace('[', '').replace(']', '').replace(\"'\", \"\")\n",
    "    audio_features.loc[i, 'genre'] = cleaning_genre"
   ]
  },
  {
   "cell_type": "code",
   "execution_count": 10,
   "metadata": {},
   "outputs": [],
   "source": [
    "# Create a new row for each genre a song is classified under\n",
    "audio_features['genre'] = audio_features['genre'].str.split(\",\")\n",
    "audio_features = audio_features.explode('genre')"
   ]
  },
  {
   "cell_type": "code",
   "execution_count": 11,
   "metadata": {},
   "outputs": [],
   "source": [
    "# Strip the rows in the 'genre' column - any genres after a comma in the original 'spotify_genre' column have a space at the beginning\n",
    "# of the string\n",
    "audio_features['genre'] = audio_features['genre'].str.strip()"
   ]
  },
  {
   "cell_type": "markdown",
   "metadata": {},
   "source": [
    "Import the parent_genres csv to reclassify song genres."
   ]
  },
  {
   "cell_type": "code",
   "execution_count": 12,
   "metadata": {},
   "outputs": [],
   "source": [
    "# Import the parent_genres csv to match genres with their parent genre\n",
    "parent_genres = pd.read_csv('Resources/parent_genres.csv')"
   ]
  },
  {
   "cell_type": "code",
   "execution_count": 13,
   "metadata": {},
   "outputs": [],
   "source": [
    "# Merge audio_features and parent_genres on the 'genre' column and drop the 'spotify_genre' and 'genre' columns\n",
    "audio_features = audio_features.merge(parent_genres, on=\"genre\", how=\"left\").drop(columns=['spotify_genre', 'genre'])\n",
    "\n",
    "# Rename the new 'parent_genre' column as 'genre'\n",
    "audio_features = audio_features.rename(columns={'parent genre':'genre'})"
   ]
  },
  {
   "cell_type": "markdown",
   "metadata": {},
   "source": [
    "#### Drop duplicates"
   ]
  },
  {
   "cell_type": "code",
   "execution_count": 14,
   "metadata": {},
   "outputs": [],
   "source": [
    "# Drop all duplicate Song IDs\n",
    "audio_features = audio_features.drop_duplicates(subset=\"SongID\").reset_index(drop=True)"
   ]
  },
  {
   "cell_type": "markdown",
   "metadata": {},
   "source": [
    "#### Add a new column"
   ]
  },
  {
   "cell_type": "code",
   "execution_count": 15,
   "metadata": {},
   "outputs": [],
   "source": [
    "# Create a new column with track duration in minutes calculated\n",
    "audio_features['duration_m'] = audio_features['duration_ms']/60000"
   ]
  },
  {
   "cell_type": "markdown",
   "metadata": {},
   "source": [
    "#### Review final DataFrame"
   ]
  },
  {
   "cell_type": "code",
   "execution_count": 16,
   "metadata": {},
   "outputs": [
    {
     "data": {
      "text/html": [
       "<div>\n",
       "<style scoped>\n",
       "    .dataframe tbody tr th:only-of-type {\n",
       "        vertical-align: middle;\n",
       "    }\n",
       "\n",
       "    .dataframe tbody tr th {\n",
       "        vertical-align: top;\n",
       "    }\n",
       "\n",
       "    .dataframe thead th {\n",
       "        text-align: right;\n",
       "    }\n",
       "</style>\n",
       "<table border=\"1\" class=\"dataframe\">\n",
       "  <thead>\n",
       "    <tr style=\"text-align: right;\">\n",
       "      <th></th>\n",
       "      <th>SongID</th>\n",
       "      <th>Performer</th>\n",
       "      <th>Song</th>\n",
       "      <th>duration_ms</th>\n",
       "      <th>explicit</th>\n",
       "      <th>danceability</th>\n",
       "      <th>energy</th>\n",
       "      <th>key</th>\n",
       "      <th>loudness</th>\n",
       "      <th>mode</th>\n",
       "      <th>speechiness</th>\n",
       "      <th>acousticness</th>\n",
       "      <th>instrumentalness</th>\n",
       "      <th>liveness</th>\n",
       "      <th>valence</th>\n",
       "      <th>tempo</th>\n",
       "      <th>time_signature</th>\n",
       "      <th>genre</th>\n",
       "      <th>duration_m</th>\n",
       "    </tr>\n",
       "  </thead>\n",
       "  <tbody>\n",
       "    <tr>\n",
       "      <th>0</th>\n",
       "      <td>......And Roses And Rosesandy Williams</td>\n",
       "      <td>Andy Williams</td>\n",
       "      <td>......And Roses And Roses</td>\n",
       "      <td>166106.0</td>\n",
       "      <td>False</td>\n",
       "      <td>0.154</td>\n",
       "      <td>0.185</td>\n",
       "      <td>5.0</td>\n",
       "      <td>-14.063</td>\n",
       "      <td>1.0</td>\n",
       "      <td>0.0315</td>\n",
       "      <td>0.91100</td>\n",
       "      <td>0.000267</td>\n",
       "      <td>0.112</td>\n",
       "      <td>0.150</td>\n",
       "      <td>83.969</td>\n",
       "      <td>4.0</td>\n",
       "      <td>adult standards</td>\n",
       "      <td>2.768433</td>\n",
       "    </tr>\n",
       "    <tr>\n",
       "      <th>1</th>\n",
       "      <td>...And Then There Were Drumssandy Nelson</td>\n",
       "      <td>Sandy Nelson</td>\n",
       "      <td>...And Then There Were Drums</td>\n",
       "      <td>172066.0</td>\n",
       "      <td>False</td>\n",
       "      <td>0.588</td>\n",
       "      <td>0.672</td>\n",
       "      <td>11.0</td>\n",
       "      <td>-17.278</td>\n",
       "      <td>0.0</td>\n",
       "      <td>0.0361</td>\n",
       "      <td>0.00256</td>\n",
       "      <td>0.745000</td>\n",
       "      <td>0.145</td>\n",
       "      <td>0.801</td>\n",
       "      <td>121.962</td>\n",
       "      <td>4.0</td>\n",
       "      <td>rock</td>\n",
       "      <td>2.867767</td>\n",
       "    </tr>\n",
       "    <tr>\n",
       "      <th>2</th>\n",
       "      <td>...Baby One More Timebritney Spears</td>\n",
       "      <td>Britney Spears</td>\n",
       "      <td>...Baby One More Time</td>\n",
       "      <td>211066.0</td>\n",
       "      <td>False</td>\n",
       "      <td>0.759</td>\n",
       "      <td>0.699</td>\n",
       "      <td>0.0</td>\n",
       "      <td>-5.745</td>\n",
       "      <td>0.0</td>\n",
       "      <td>0.0307</td>\n",
       "      <td>0.20200</td>\n",
       "      <td>0.000131</td>\n",
       "      <td>0.443</td>\n",
       "      <td>0.907</td>\n",
       "      <td>92.960</td>\n",
       "      <td>4.0</td>\n",
       "      <td>pop</td>\n",
       "      <td>3.517767</td>\n",
       "    </tr>\n",
       "    <tr>\n",
       "      <th>3</th>\n",
       "      <td>...Ready For It?Taylor Swift</td>\n",
       "      <td>Taylor Swift</td>\n",
       "      <td>...Ready For It?</td>\n",
       "      <td>208186.0</td>\n",
       "      <td>False</td>\n",
       "      <td>0.613</td>\n",
       "      <td>0.764</td>\n",
       "      <td>2.0</td>\n",
       "      <td>-6.509</td>\n",
       "      <td>1.0</td>\n",
       "      <td>0.1360</td>\n",
       "      <td>0.05270</td>\n",
       "      <td>0.000000</td>\n",
       "      <td>0.197</td>\n",
       "      <td>0.417</td>\n",
       "      <td>160.015</td>\n",
       "      <td>4.0</td>\n",
       "      <td>pop</td>\n",
       "      <td>3.469767</td>\n",
       "    </tr>\n",
       "    <tr>\n",
       "      <th>4</th>\n",
       "      <td>'65 Love Affairpaul Davis</td>\n",
       "      <td>Paul Davis</td>\n",
       "      <td>'65 Love Affair</td>\n",
       "      <td>219813.0</td>\n",
       "      <td>False</td>\n",
       "      <td>0.647</td>\n",
       "      <td>0.686</td>\n",
       "      <td>2.0</td>\n",
       "      <td>-4.247</td>\n",
       "      <td>0.0</td>\n",
       "      <td>0.0274</td>\n",
       "      <td>0.43200</td>\n",
       "      <td>0.000006</td>\n",
       "      <td>0.133</td>\n",
       "      <td>0.952</td>\n",
       "      <td>155.697</td>\n",
       "      <td>4.0</td>\n",
       "      <td>rock</td>\n",
       "      <td>3.663550</td>\n",
       "    </tr>\n",
       "  </tbody>\n",
       "</table>\n",
       "</div>"
      ],
      "text/plain": [
       "                                     SongID       Performer  \\\n",
       "0    ......And Roses And Rosesandy Williams   Andy Williams   \n",
       "1  ...And Then There Were Drumssandy Nelson    Sandy Nelson   \n",
       "2       ...Baby One More Timebritney Spears  Britney Spears   \n",
       "3              ...Ready For It?Taylor Swift    Taylor Swift   \n",
       "4                 '65 Love Affairpaul Davis      Paul Davis   \n",
       "\n",
       "                           Song  duration_ms explicit  danceability  energy  \\\n",
       "0     ......And Roses And Roses     166106.0    False         0.154   0.185   \n",
       "1  ...And Then There Were Drums     172066.0    False         0.588   0.672   \n",
       "2         ...Baby One More Time     211066.0    False         0.759   0.699   \n",
       "3              ...Ready For It?     208186.0    False         0.613   0.764   \n",
       "4               '65 Love Affair     219813.0    False         0.647   0.686   \n",
       "\n",
       "    key  loudness  mode  speechiness  acousticness  instrumentalness  \\\n",
       "0   5.0   -14.063   1.0       0.0315       0.91100          0.000267   \n",
       "1  11.0   -17.278   0.0       0.0361       0.00256          0.745000   \n",
       "2   0.0    -5.745   0.0       0.0307       0.20200          0.000131   \n",
       "3   2.0    -6.509   1.0       0.1360       0.05270          0.000000   \n",
       "4   2.0    -4.247   0.0       0.0274       0.43200          0.000006   \n",
       "\n",
       "   liveness  valence    tempo  time_signature            genre  duration_m  \n",
       "0     0.112    0.150   83.969             4.0  adult standards    2.768433  \n",
       "1     0.145    0.801  121.962             4.0             rock    2.867767  \n",
       "2     0.443    0.907   92.960             4.0              pop    3.517767  \n",
       "3     0.197    0.417  160.015             4.0              pop    3.469767  \n",
       "4     0.133    0.952  155.697             4.0             rock    3.663550  "
      ]
     },
     "execution_count": 16,
     "metadata": {},
     "output_type": "execute_result"
    }
   ],
   "source": [
    "# Final inspection of audio_features dataframe\n",
    "audio_features.head()"
   ]
  },
  {
   "cell_type": "markdown",
   "metadata": {},
   "source": [
    "## Import, Inspect, and Clean Second Dataset - Billboard Hot 100 Data"
   ]
  },
  {
   "cell_type": "markdown",
   "metadata": {},
   "source": [
    "The second dataset being imported is titled 'Hot Stuff' and it contains data on the ranking of all tracks in the Billboard Hot 100 each week from the week of August 2nd, 1958 to the week of May 29th, 2021."
   ]
  },
  {
   "cell_type": "code",
   "execution_count": 17,
   "metadata": {},
   "outputs": [
    {
     "data": {
      "text/html": [
       "<div>\n",
       "<style scoped>\n",
       "    .dataframe tbody tr th:only-of-type {\n",
       "        vertical-align: middle;\n",
       "    }\n",
       "\n",
       "    .dataframe tbody tr th {\n",
       "        vertical-align: top;\n",
       "    }\n",
       "\n",
       "    .dataframe thead th {\n",
       "        text-align: right;\n",
       "    }\n",
       "</style>\n",
       "<table border=\"1\" class=\"dataframe\">\n",
       "  <thead>\n",
       "    <tr style=\"text-align: right;\">\n",
       "      <th></th>\n",
       "      <th>WeekID</th>\n",
       "      <th>Week Position</th>\n",
       "      <th>Song</th>\n",
       "      <th>Performer</th>\n",
       "      <th>SongID</th>\n",
       "      <th>Instance</th>\n",
       "      <th>Peak Position</th>\n",
       "      <th>Weeks on Chart</th>\n",
       "    </tr>\n",
       "  </thead>\n",
       "  <tbody>\n",
       "    <tr>\n",
       "      <th>0</th>\n",
       "      <td>7/17/1965</td>\n",
       "      <td>34</td>\n",
       "      <td>Don't Just Stand There</td>\n",
       "      <td>Patty Duke</td>\n",
       "      <td>Don't Just Stand TherePatty Duke</td>\n",
       "      <td>1</td>\n",
       "      <td>34</td>\n",
       "      <td>4</td>\n",
       "    </tr>\n",
       "    <tr>\n",
       "      <th>1</th>\n",
       "      <td>7/24/1965</td>\n",
       "      <td>22</td>\n",
       "      <td>Don't Just Stand There</td>\n",
       "      <td>Patty Duke</td>\n",
       "      <td>Don't Just Stand TherePatty Duke</td>\n",
       "      <td>1</td>\n",
       "      <td>22</td>\n",
       "      <td>5</td>\n",
       "    </tr>\n",
       "    <tr>\n",
       "      <th>2</th>\n",
       "      <td>7/31/1965</td>\n",
       "      <td>14</td>\n",
       "      <td>Don't Just Stand There</td>\n",
       "      <td>Patty Duke</td>\n",
       "      <td>Don't Just Stand TherePatty Duke</td>\n",
       "      <td>1</td>\n",
       "      <td>14</td>\n",
       "      <td>6</td>\n",
       "    </tr>\n",
       "    <tr>\n",
       "      <th>3</th>\n",
       "      <td>8/7/1965</td>\n",
       "      <td>10</td>\n",
       "      <td>Don't Just Stand There</td>\n",
       "      <td>Patty Duke</td>\n",
       "      <td>Don't Just Stand TherePatty Duke</td>\n",
       "      <td>1</td>\n",
       "      <td>10</td>\n",
       "      <td>7</td>\n",
       "    </tr>\n",
       "    <tr>\n",
       "      <th>4</th>\n",
       "      <td>8/14/1965</td>\n",
       "      <td>8</td>\n",
       "      <td>Don't Just Stand There</td>\n",
       "      <td>Patty Duke</td>\n",
       "      <td>Don't Just Stand TherePatty Duke</td>\n",
       "      <td>1</td>\n",
       "      <td>8</td>\n",
       "      <td>8</td>\n",
       "    </tr>\n",
       "  </tbody>\n",
       "</table>\n",
       "</div>"
      ],
      "text/plain": [
       "      WeekID  Week Position                    Song   Performer  \\\n",
       "0  7/17/1965             34  Don't Just Stand There  Patty Duke   \n",
       "1  7/24/1965             22  Don't Just Stand There  Patty Duke   \n",
       "2  7/31/1965             14  Don't Just Stand There  Patty Duke   \n",
       "3   8/7/1965             10  Don't Just Stand There  Patty Duke   \n",
       "4  8/14/1965              8  Don't Just Stand There  Patty Duke   \n",
       "\n",
       "                             SongID  Instance  Peak Position  Weeks on Chart  \n",
       "0  Don't Just Stand TherePatty Duke         1             34               4  \n",
       "1  Don't Just Stand TherePatty Duke         1             22               5  \n",
       "2  Don't Just Stand TherePatty Duke         1             14               6  \n",
       "3  Don't Just Stand TherePatty Duke         1             10               7  \n",
       "4  Don't Just Stand TherePatty Duke         1              8               8  "
      ]
     },
     "execution_count": 17,
     "metadata": {},
     "output_type": "execute_result"
    }
   ],
   "source": [
    "# Use pd.read_csv() to read in second dataset - Hot Stuff\n",
    "billboard_rankings = pd.read_csv('Resources/Hot Stuff.csv').drop(columns=['index', 'url', 'Previous Week Position'])\n",
    "billboard_rankings.head()"
   ]
  },
  {
   "cell_type": "markdown",
   "metadata": {},
   "source": [
    "#### Format SongId, Performer, and Song column"
   ]
  },
  {
   "cell_type": "code",
   "execution_count": 18,
   "metadata": {},
   "outputs": [],
   "source": [
    "# Use .str.title() to format all SongIDs, Performers, and Songs the same way\n",
    "billboard_rankings[\"SongID\"]= billboard_rankings[\"SongID\"].str.upper().str.title()\n",
    "billboard_rankings[\"Performer\"]= billboard_rankings[\"Performer\"].str.upper().str.title()\n",
    "billboard_rankings[\"Song\"]= billboard_rankings[\"Song\"].str.upper().str.title()"
   ]
  },
  {
   "cell_type": "markdown",
   "metadata": {},
   "source": [
    "#### Split WeekID column & find peak dates for each song"
   ]
  },
  {
   "cell_type": "code",
   "execution_count": 19,
   "metadata": {},
   "outputs": [],
   "source": [
    "# Split the 'WeekID' column on the / characters to separate month, day, and year into their own columns\n",
    "billboard_rankings[['Month', 'Day', 'Year']] = billboard_rankings['WeekID'].str.split('/', expand=True)"
   ]
  },
  {
   "cell_type": "code",
   "execution_count": 20,
   "metadata": {},
   "outputs": [],
   "source": [
    "# Group the DataFrame by SongID and Year to find their highest position on the Billboard charts for each year it's in the charts\n",
    "yearly_top = pd.DataFrame(billboard_rankings.groupby(['SongID', 'Year'])['Week Position'].min()).reset_index()\n",
    "yearly_top = yearly_top.rename(columns={'Week Position':'Year Peak'})\n",
    "\n",
    "# Group the DataFrame by SongID to find their highest position on the Billboard charts overall\n",
    "billboard_top = pd.DataFrame(billboard_rankings.groupby(['SongID'])['Week Position'].min()).reset_index()\n",
    "billboard_top = billboard_top.rename(columns={'Week Position':'Overall Peak'})\n",
    "\n",
    "# Merge the 'Year Peak' and 'Overall Peak' column with the billboard_peaks DataFrame\n",
    "billboard_peaks = billboard_rankings.merge(yearly_top, on=['SongID', 'Year'])\n",
    "billboard_peaks = billboard_peaks.merge(billboard_top, on=['SongID'])"
   ]
  },
  {
   "cell_type": "markdown",
   "metadata": {},
   "source": [
    "#### Calculate the maximum of the Weeks on Chart and Total Instances for each song"
   ]
  },
  {
   "cell_type": "code",
   "execution_count": 21,
   "metadata": {},
   "outputs": [],
   "source": [
    "# Find the total number of weeks each song was on the Billboard charts\n",
    "weeks_on_chart = pd.DataFrame(billboard_rankings.groupby(['SongID'])['Weeks on Chart'].max()).reset_index()\n",
    "weeks_on_chart = weeks_on_chart.rename(columns={'Weeks on Chart':'Total Weeks on Chart'})\n",
    "\n",
    "# Find the total number of instances each song was on the Billboard charts\n",
    "total_instances = pd.DataFrame(billboard_rankings.groupby(['SongID'])['Instance'].max()).reset_index()\n",
    "total_instances = total_instances.rename(columns={'Instance':'Total Instances'})\n",
    "\n",
    "# Merge the 'Total Weeks on Chart' and 'Total Instances' columns with the billboard_peaks DataFrame\n",
    "billboard_peaks = billboard_peaks.merge(weeks_on_chart, on=['SongID'])\n",
    "billboard_peaks = billboard_peaks.merge(total_instances, on=['SongID'])"
   ]
  },
  {
   "cell_type": "code",
   "execution_count": 22,
   "metadata": {},
   "outputs": [],
   "source": [
    "# Find the date that each song hit it's highest posittion on the Billboard charts (for each year it was on the chart) by finding the row\n",
    "# where a song's Week Position matches it's Overall Peak position\n",
    "for i, row in billboard_peaks.iterrows():\n",
    "    if row['Week Position'] == row['Year Peak']:\n",
    "        billboard_peaks.loc[i, 'initial_peak_yearly'] = row['WeekID']"
   ]
  },
  {
   "cell_type": "markdown",
   "metadata": {},
   "source": [
    "#### Drop extra and duplicate rows"
   ]
  },
  {
   "cell_type": "code",
   "execution_count": 23,
   "metadata": {},
   "outputs": [],
   "source": [
    "# Drop all rows with null values in the 'initial_peak_yearly' column\n",
    "billboard_peaks = billboard_peaks.dropna(subset='initial_peak_yearly')"
   ]
  },
  {
   "cell_type": "code",
   "execution_count": 24,
   "metadata": {},
   "outputs": [],
   "source": [
    "# Drop any duplicates based on SongID and Year - in case a song peaked at the same position more than once in the same year\n",
    "# Keep the first row - the initial date they peaked that year\n",
    "billboard_peaks = billboard_peaks.drop_duplicates(subset=['SongID', 'Year'])"
   ]
  },
  {
   "cell_type": "markdown",
   "metadata": {},
   "source": [
    "### Create fully_cleaned_yearly dataframe (for yearly analysis on Tableau Dashboard) and save as csv"
   ]
  },
  {
   "cell_type": "code",
   "execution_count": 25,
   "metadata": {},
   "outputs": [],
   "source": [
    "# Create a new dataframe to hold only the needed columns\n",
    "billboard_peaks_yearly = billboard_peaks[['Song', 'Performer', 'SongID', 'Month', 'Day', 'Year', 'Year Peak', 'Overall Peak']]\n",
    "\n",
    "# Merge the new dataframe with the audio_features dataframe to create the fully cleaned dataframe for yearly analysis\n",
    "fully_cleaned_yearly = audio_features.merge(billboard_peaks_yearly, on=[\"Song\", \"Performer\", \"SongID\"])\n",
    "fully_cleaned_yearly = fully_cleaned_yearly.rename(columns={\"spotify_track_duration_ms\":\"duration_ms\", \"spotify_track_explicit\":\"explicit\",\n",
    "                                                            \"spotify_track_popularity\":\"spotify_popularity\"})"
   ]
  },
  {
   "cell_type": "code",
   "execution_count": 26,
   "metadata": {},
   "outputs": [],
   "source": [
    "fully_cleaned_yearly.to_csv('Resources/fully_cleaned_yearly.csv')"
   ]
  },
  {
   "cell_type": "markdown",
   "metadata": {},
   "source": [
    "### Continue working with billboard_peaks dataframe to make cleaned_data dataframe for non-yearly analysis"
   ]
  },
  {
   "cell_type": "markdown",
   "metadata": {},
   "source": [
    "#### Drop extra columns"
   ]
  },
  {
   "cell_type": "code",
   "execution_count": 27,
   "metadata": {},
   "outputs": [],
   "source": [
    "# Use .drop to drop the 'Year Peak' and 'initial_peak_yearly' columns\n",
    "billboard_peaks = billboard_peaks.drop(columns=['Year Peak', 'initial_peak_yearly'])"
   ]
  },
  {
   "cell_type": "markdown",
   "metadata": {},
   "source": [
    "#### Find the first year each song reached it's highest position on the charts"
   ]
  },
  {
   "cell_type": "code",
   "execution_count": 28,
   "metadata": {},
   "outputs": [],
   "source": [
    "# For songs that enter the chart in more than one year: find the year that each song hit it's highest posittion on the Billboard charts\n",
    "# by finding the row where a song's Week Position matches it's Overall Peak position\n",
    "for i, row in billboard_peaks.iterrows():\n",
    "    if row['Week Position'] == row['Overall Peak']:\n",
    "        billboard_peaks.loc[i, 'Peak Year'] = row['Year']"
   ]
  },
  {
   "cell_type": "markdown",
   "metadata": {},
   "source": [
    "#### Drop extra and duplicate rows; drop unneeded columns"
   ]
  },
  {
   "cell_type": "code",
   "execution_count": 29,
   "metadata": {},
   "outputs": [],
   "source": [
    "# Create a new dataframe to contain our clean data - drop all rows with a null value in the 'Peak Year' column\n",
    "billboard_clean = billboard_peaks.dropna(subset='Peak Year')"
   ]
  },
  {
   "cell_type": "code",
   "execution_count": 30,
   "metadata": {},
   "outputs": [],
   "source": [
    "# Drop any duplicates based on SongID - in case a song peaked at the same position more than once\n",
    "billboard_clean = billboard_clean.drop_duplicates(subset=['SongID'])"
   ]
  },
  {
   "cell_type": "code",
   "execution_count": 31,
   "metadata": {},
   "outputs": [],
   "source": [
    "# Drop all columns unnecessary for analysis and model building\n",
    "billboard_clean = billboard_clean.drop(columns=['WeekID', 'Week Position', 'Instance', 'Peak Position', 'Weeks on Chart', 'Peak Year'])"
   ]
  },
  {
   "cell_type": "markdown",
   "metadata": {},
   "source": [
    "#### Create a boolean column to indicate whether a song made it into the top 20 or not"
   ]
  },
  {
   "cell_type": "code",
   "execution_count": 32,
   "metadata": {},
   "outputs": [],
   "source": [
    "# Loop through the DataFrame to create a new column, 'Top 20', that displays whether a song reached the top 20 (1) or didn't (0)\n",
    "for i, row in billboard_clean.iterrows():\n",
    "    if row['Overall Peak'] <= 20:\n",
    "        billboard_clean.loc[i, 'Top 20'] = 1\n",
    "    else:\n",
    "        billboard_clean.loc[i, 'Top 20'] = 0"
   ]
  },
  {
   "cell_type": "code",
   "execution_count": 33,
   "metadata": {},
   "outputs": [],
   "source": [
    "# Convert the column to data type integer\n",
    "billboard_clean['Top 20'] = billboard_clean['Top 20'].astype(int)"
   ]
  },
  {
   "cell_type": "code",
   "execution_count": 34,
   "metadata": {},
   "outputs": [],
   "source": [
    "# Reset the index\n",
    "billboard_clean = billboard_clean.reset_index(drop=True)"
   ]
  },
  {
   "cell_type": "markdown",
   "metadata": {},
   "source": [
    "#### Review final DataFrame"
   ]
  },
  {
   "cell_type": "code",
   "execution_count": 35,
   "metadata": {},
   "outputs": [
    {
     "data": {
      "text/html": [
       "<div>\n",
       "<style scoped>\n",
       "    .dataframe tbody tr th:only-of-type {\n",
       "        vertical-align: middle;\n",
       "    }\n",
       "\n",
       "    .dataframe tbody tr th {\n",
       "        vertical-align: top;\n",
       "    }\n",
       "\n",
       "    .dataframe thead th {\n",
       "        text-align: right;\n",
       "    }\n",
       "</style>\n",
       "<table border=\"1\" class=\"dataframe\">\n",
       "  <thead>\n",
       "    <tr style=\"text-align: right;\">\n",
       "      <th></th>\n",
       "      <th>Song</th>\n",
       "      <th>Performer</th>\n",
       "      <th>SongID</th>\n",
       "      <th>Month</th>\n",
       "      <th>Day</th>\n",
       "      <th>Year</th>\n",
       "      <th>Overall Peak</th>\n",
       "      <th>Total Weeks on Chart</th>\n",
       "      <th>Total Instances</th>\n",
       "      <th>Top 20</th>\n",
       "    </tr>\n",
       "  </thead>\n",
       "  <tbody>\n",
       "    <tr>\n",
       "      <th>0</th>\n",
       "      <td>Don'T Just Stand There</td>\n",
       "      <td>Patty Duke</td>\n",
       "      <td>Don'T Just Stand Therepatty Duke</td>\n",
       "      <td>8</td>\n",
       "      <td>14</td>\n",
       "      <td>1965</td>\n",
       "      <td>8</td>\n",
       "      <td>11</td>\n",
       "      <td>1</td>\n",
       "      <td>1</td>\n",
       "    </tr>\n",
       "    <tr>\n",
       "      <th>1</th>\n",
       "      <td>Don'T Keep Wasting My Time</td>\n",
       "      <td>Teddy Pendergrass</td>\n",
       "      <td>Don'T Keep Wasting My Timeteddy Pendergrass</td>\n",
       "      <td>4</td>\n",
       "      <td>26</td>\n",
       "      <td>1997</td>\n",
       "      <td>90</td>\n",
       "      <td>6</td>\n",
       "      <td>1</td>\n",
       "      <td>0</td>\n",
       "    </tr>\n",
       "    <tr>\n",
       "      <th>2</th>\n",
       "      <td>Don'T Knock My Love - Pt. 1</td>\n",
       "      <td>Wilson Pickett</td>\n",
       "      <td>Don'T Knock My Love - Pt. 1Wilson Pickett</td>\n",
       "      <td>6</td>\n",
       "      <td>26</td>\n",
       "      <td>1971</td>\n",
       "      <td>13</td>\n",
       "      <td>12</td>\n",
       "      <td>1</td>\n",
       "      <td>1</td>\n",
       "    </tr>\n",
       "    <tr>\n",
       "      <th>3</th>\n",
       "      <td>Don'T Knock My Love</td>\n",
       "      <td>Diana Ross &amp; Marvin Gaye</td>\n",
       "      <td>Don'T Knock My Lovediana Ross &amp; Marvin Gaye</td>\n",
       "      <td>8</td>\n",
       "      <td>17</td>\n",
       "      <td>1974</td>\n",
       "      <td>46</td>\n",
       "      <td>9</td>\n",
       "      <td>1</td>\n",
       "      <td>0</td>\n",
       "    </tr>\n",
       "    <tr>\n",
       "      <th>4</th>\n",
       "      <td>Don'T Know Much</td>\n",
       "      <td>Bill Medley</td>\n",
       "      <td>Don'T Know Muchbill Medley</td>\n",
       "      <td>4</td>\n",
       "      <td>11</td>\n",
       "      <td>1981</td>\n",
       "      <td>88</td>\n",
       "      <td>4</td>\n",
       "      <td>1</td>\n",
       "      <td>0</td>\n",
       "    </tr>\n",
       "  </tbody>\n",
       "</table>\n",
       "</div>"
      ],
      "text/plain": [
       "                          Song                 Performer  \\\n",
       "0       Don'T Just Stand There                Patty Duke   \n",
       "1   Don'T Keep Wasting My Time         Teddy Pendergrass   \n",
       "2  Don'T Knock My Love - Pt. 1            Wilson Pickett   \n",
       "3          Don'T Knock My Love  Diana Ross & Marvin Gaye   \n",
       "4              Don'T Know Much               Bill Medley   \n",
       "\n",
       "                                        SongID Month Day  Year  Overall Peak  \\\n",
       "0             Don'T Just Stand Therepatty Duke     8  14  1965             8   \n",
       "1  Don'T Keep Wasting My Timeteddy Pendergrass     4  26  1997            90   \n",
       "2    Don'T Knock My Love - Pt. 1Wilson Pickett     6  26  1971            13   \n",
       "3  Don'T Knock My Lovediana Ross & Marvin Gaye     8  17  1974            46   \n",
       "4                   Don'T Know Muchbill Medley     4  11  1981            88   \n",
       "\n",
       "   Total Weeks on Chart  Total Instances  Top 20  \n",
       "0                    11                1       1  \n",
       "1                     6                1       0  \n",
       "2                    12                1       1  \n",
       "3                     9                1       0  \n",
       "4                     4                1       0  "
      ]
     },
     "execution_count": 35,
     "metadata": {},
     "output_type": "execute_result"
    }
   ],
   "source": [
    "# Final check of the cleaned data\n",
    "billboard_clean.head()"
   ]
  },
  {
   "cell_type": "markdown",
   "metadata": {},
   "source": [
    "## Create Final DataFrame"
   ]
  },
  {
   "cell_type": "markdown",
   "metadata": {},
   "source": [
    "#### Merge the two DataFrames and rename columns for easier use"
   ]
  },
  {
   "cell_type": "code",
   "execution_count": 36,
   "metadata": {},
   "outputs": [],
   "source": [
    "# Merge the audio_features DataFrame with the billboard_clean DataFrame to create our full, cleaned DataFrame to use for our analysis\n",
    "full_clean_df = audio_features.merge(billboard_clean, on=[\"Song\", \"Performer\", \"SongID\"])\n",
    "full_clean_df = full_clean_df.rename(columns={\"spotify_track_duration_ms\":\"duration_ms\", \"spotify_track_explicit\":\"explicit\",\n",
    "                                                \"spotify_track_popularity\":\"spotify_popularity\"})"
   ]
  },
  {
   "cell_type": "markdown",
   "metadata": {},
   "source": [
    "#### Drop featured artists from the Performer column"
   ]
  },
  {
   "cell_type": "code",
   "execution_count": 37,
   "metadata": {},
   "outputs": [],
   "source": [
    "full_clean_df[['Performer', 'Feature']] = full_clean_df['Performer'].str.split(' Featuring', expand=True)\n",
    "full_clean_df = full_clean_df.drop(columns=['Feature'])"
   ]
  },
  {
   "cell_type": "code",
   "execution_count": 38,
   "metadata": {},
   "outputs": [],
   "source": [
    "full_clean_df = full_clean_df.drop(4886, axis='index')"
   ]
  },
  {
   "cell_type": "markdown",
   "metadata": {},
   "source": [
    "#### Review final DataFrame"
   ]
  },
  {
   "cell_type": "code",
   "execution_count": 39,
   "metadata": {},
   "outputs": [
    {
     "data": {
      "text/html": [
       "<div>\n",
       "<style scoped>\n",
       "    .dataframe tbody tr th:only-of-type {\n",
       "        vertical-align: middle;\n",
       "    }\n",
       "\n",
       "    .dataframe tbody tr th {\n",
       "        vertical-align: top;\n",
       "    }\n",
       "\n",
       "    .dataframe thead th {\n",
       "        text-align: right;\n",
       "    }\n",
       "</style>\n",
       "<table border=\"1\" class=\"dataframe\">\n",
       "  <thead>\n",
       "    <tr style=\"text-align: right;\">\n",
       "      <th></th>\n",
       "      <th>SongID</th>\n",
       "      <th>Performer</th>\n",
       "      <th>Song</th>\n",
       "      <th>duration_ms</th>\n",
       "      <th>explicit</th>\n",
       "      <th>danceability</th>\n",
       "      <th>energy</th>\n",
       "      <th>key</th>\n",
       "      <th>loudness</th>\n",
       "      <th>mode</th>\n",
       "      <th>...</th>\n",
       "      <th>time_signature</th>\n",
       "      <th>genre</th>\n",
       "      <th>duration_m</th>\n",
       "      <th>Month</th>\n",
       "      <th>Day</th>\n",
       "      <th>Year</th>\n",
       "      <th>Overall Peak</th>\n",
       "      <th>Total Weeks on Chart</th>\n",
       "      <th>Total Instances</th>\n",
       "      <th>Top 20</th>\n",
       "    </tr>\n",
       "  </thead>\n",
       "  <tbody>\n",
       "    <tr>\n",
       "      <th>0</th>\n",
       "      <td>......And Roses And Rosesandy Williams</td>\n",
       "      <td>Andy Williams</td>\n",
       "      <td>......And Roses And Roses</td>\n",
       "      <td>166106.0</td>\n",
       "      <td>False</td>\n",
       "      <td>0.154</td>\n",
       "      <td>0.185</td>\n",
       "      <td>5.0</td>\n",
       "      <td>-14.063</td>\n",
       "      <td>1.0</td>\n",
       "      <td>...</td>\n",
       "      <td>4.0</td>\n",
       "      <td>adult standards</td>\n",
       "      <td>2.768433</td>\n",
       "      <td>5</td>\n",
       "      <td>8</td>\n",
       "      <td>1965</td>\n",
       "      <td>36</td>\n",
       "      <td>7</td>\n",
       "      <td>1</td>\n",
       "      <td>0</td>\n",
       "    </tr>\n",
       "    <tr>\n",
       "      <th>1</th>\n",
       "      <td>...And Then There Were Drumssandy Nelson</td>\n",
       "      <td>Sandy Nelson</td>\n",
       "      <td>...And Then There Were Drums</td>\n",
       "      <td>172066.0</td>\n",
       "      <td>False</td>\n",
       "      <td>0.588</td>\n",
       "      <td>0.672</td>\n",
       "      <td>11.0</td>\n",
       "      <td>-17.278</td>\n",
       "      <td>0.0</td>\n",
       "      <td>...</td>\n",
       "      <td>4.0</td>\n",
       "      <td>rock</td>\n",
       "      <td>2.867767</td>\n",
       "      <td>10</td>\n",
       "      <td>6</td>\n",
       "      <td>1962</td>\n",
       "      <td>65</td>\n",
       "      <td>4</td>\n",
       "      <td>1</td>\n",
       "      <td>0</td>\n",
       "    </tr>\n",
       "  </tbody>\n",
       "</table>\n",
       "<p>2 rows × 26 columns</p>\n",
       "</div>"
      ],
      "text/plain": [
       "                                     SongID      Performer  \\\n",
       "0    ......And Roses And Rosesandy Williams  Andy Williams   \n",
       "1  ...And Then There Were Drumssandy Nelson   Sandy Nelson   \n",
       "\n",
       "                           Song  duration_ms explicit  danceability  energy  \\\n",
       "0     ......And Roses And Roses     166106.0    False         0.154   0.185   \n",
       "1  ...And Then There Were Drums     172066.0    False         0.588   0.672   \n",
       "\n",
       "    key  loudness  mode  ...  time_signature            genre  duration_m  \\\n",
       "0   5.0   -14.063   1.0  ...             4.0  adult standards    2.768433   \n",
       "1  11.0   -17.278   0.0  ...             4.0             rock    2.867767   \n",
       "\n",
       "   Month  Day  Year  Overall Peak Total Weeks on Chart  Total Instances Top 20  \n",
       "0      5    8  1965            36                    7                1      0  \n",
       "1     10    6  1962            65                    4                1      0  \n",
       "\n",
       "[2 rows x 26 columns]"
      ]
     },
     "execution_count": 39,
     "metadata": {},
     "output_type": "execute_result"
    }
   ],
   "source": [
    "# Final inspection\n",
    "full_clean_df.head(2)"
   ]
  },
  {
   "cell_type": "markdown",
   "metadata": {},
   "source": [
    "#### Save final DataFrame"
   ]
  },
  {
   "cell_type": "code",
   "execution_count": 40,
   "metadata": {},
   "outputs": [],
   "source": [
    "full_clean_df.to_csv('Resources/cleaned_data.csv', index=False)"
   ]
  }
 ],
 "metadata": {
  "kernelspec": {
   "display_name": "dev",
   "language": "python",
   "name": "python3"
  },
  "language_info": {
   "codemirror_mode": {
    "name": "ipython",
    "version": 3
   },
   "file_extension": ".py",
   "mimetype": "text/x-python",
   "name": "python",
   "nbconvert_exporter": "python",
   "pygments_lexer": "ipython3",
   "version": "3.10.13"
  }
 },
 "nbformat": 4,
 "nbformat_minor": 2
}
